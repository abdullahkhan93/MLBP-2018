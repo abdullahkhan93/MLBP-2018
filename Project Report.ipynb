{
 "cells": [
  {
   "cell_type": "markdown",
   "metadata": {},
   "source": [
    "**Machine Learning Basic Principles 2018 - Data Analysis Project Report**"
   ]
  },
  {
   "cell_type": "markdown",
   "metadata": {},
   "source": [
    "*All the text in italics is instructions for filling the template - remove when writing the project report!*"
   ]
  },
  {
   "cell_type": "markdown",
   "metadata": {},
   "source": [
    "# *Title* "
   ]
  },
  {
   "cell_type": "markdown",
   "metadata": {},
   "source": [
    "*Title should be concise and informative, describes the approach to solve the problem. Some good titles from previous years:*\n",
    "\n",
    "*- Comparing extreme learning machines and naive bayes’ classifier in spam detection*\n",
    "\n",
    "*- Using linear discriminant analysis in spam detection*\n",
    "\n",
    "*Some not-so-good titles:*\n",
    "\n",
    "*- Bayesian spam filtering with extras*\n",
    "\n",
    "*- Two-component classifier for spam detection*\n",
    "\n",
    "*- CS-E3210 Term Project, final report*\n",
    "\n",
    "\n"
   ]
  },
  {
   "cell_type": "markdown",
   "metadata": {},
   "source": [
    "## Abstract"
   ]
  },
  {
   "cell_type": "markdown",
   "metadata": {},
   "source": [
    "*Precise summary of the whole report, previews the contents and results. Must be a single paragraph between 100 and 200 words.*\n",
    "\n"
   ]
  },
  {
   "cell_type": "markdown",
   "metadata": {},
   "source": [
    "## 1. Introduction"
   ]
  },
  {
   "cell_type": "markdown",
   "metadata": {},
   "source": [
    "*Background, problem statement, motivation, many references, description of\n",
    "contents. Introduces the reader to the topic and the broad context within which your\n",
    "research/project fits*\n",
    "\n",
    "*- What do you hope to learn from the project?*\n",
    "*- What question is being addressed?*\n",
    "*- Why is this task important? (motivation)*\n",
    "\n",
    "*Keep it short (half to 1 page).*\n",
    "\n"
   ]
  },
  {
   "cell_type": "markdown",
   "metadata": {},
   "source": [
    "## 2. Data analysis"
   ]
  },
  {
   "cell_type": "markdown",
   "metadata": {},
   "source": [
    "*Briefly describe data (class distribution, dimensionality) and how will it affect\n",
    "classification. Visualize the data. Don’t focus too much on the meaning of the features,\n",
    "unless you want to.*\n",
    "\n",
    "*- Include histograms showing class distribution.*\n",
    "\n",
    "\n"
   ]
  },
  {
   "cell_type": "code",
   "execution_count": 1,
   "metadata": {},
   "outputs": [],
   "source": [
    "'''\n",
    "Dependencies\n",
    "'''\n",
    "# Import dependencies\n",
    "import pandas as pd\n",
    "import numpy as np\n",
    "import matplotlib.pyplot as plt\n",
    "from matplotlib.patches import Rectangle\n",
    "from sklearn.tree import DecisionTreeClassifier as DTC\n",
    "from sklearn import metrics as met\n",
    "from sklearn.model_selection import train_test_split as TTSplit\n",
    "from sklearn.metrics import classification_report as ClassRep\n",
    "from sklearn.metrics import confusion_matrix as ConfMat\n",
    "from sklearn.linear_model import LogisticRegression as LogReg\n",
    "from sklearn import preprocessing, svm, ensemble\n",
    "from sklearn.neighbors import KNeighborsClassifier\n",
    "from sklearn.metrics import confusion_matrix"
   ]
  },
  {
   "cell_type": "code",
   "execution_count": 2,
   "metadata": {
    "scrolled": true
   },
   "outputs": [
    {
     "data": {
      "image/png": "[encoded data removed]",
      "text/plain": [
       "<matplotlib.figure.Figure at 0x1f87fbcdc18>"
      ]
     },
     "metadata": {
      "needs_background": "light"
     },
     "output_type": "display_data"
    }
   ],
   "source": [
    "'''\n",
    "Data Import from Files\n",
    "'''\n",
    "\n",
    "# Reading Data into Numpy Arrays\n",
    "XTrainData = pd.read_csv(\"train_data.csv\", header = None).values\n",
    "YTrainData = pd.read_csv(\"train_labels.csv\", header = None).values\n",
    "XTestData = pd.read_csv(\"test_data.csv\", header = None).values\n",
    "\n",
    "# Storing Numpy Arrays into DataFrames for better visualization\n",
    "FeatureTrainData = pd.DataFrame(XTrainData)\n",
    "LabelTrainData = pd.DataFrame(YTrainData)\n",
    "FeatureTestData = pd.DataFrame(XTestData)\n",
    "\n",
    "#FeatureTrainData.head()\n",
    "#FeatureTestData.head()\n",
    "#LabelTrainData.head()\n",
    "\n",
    "# Class Distribution Histogram \n",
    "fig, ax = plt.subplots()\n",
    "N, bins, patches = ax.hist(YTrainData, linewidth = 2)\n",
    "plt.title(\"Class Distribution Histogram\")\n",
    "plt.xlabel(\"Genre\")\n",
    "plt.ylabel(\"Frequency\")\n",
    "plt.grid(True)\n",
    "plt.xticks(np.arange(1, 11, step = 1))\n",
    "plt.yticks(np.arange(0, 3000, step = 250))\n",
    "colors = ['blue', 'green', 'red', 'yellow', 'orange', 'brown', 'gray', 'purple', 'pink', 'black']\n",
    "for i in range(0, 10):\n",
    "    patches[i].set_facecolor(colors[i])\n",
    "# Histogram Legend\n",
    "handles = [Rectangle((0, 0), 1, 1, color = c, ec = \"k\") for c in colors]\n",
    "labels = [\"Pop_Rock\", \"Electronic\", \"Rap\", \"Jazz\", \"Latin\", \"RnB\", \"International\", \"Country\", \"Reggae\", \"Blues\"]\n",
    "plt.legend(handles, labels)\n",
    "plt.show()"
   ]
  },
  {
   "cell_type": "code",
   "execution_count": 3,
   "metadata": {},
   "outputs": [],
   "source": [
    "'''\n",
    "Data Normalization (Choose one and comment out the others for testing)\n",
    "'''\n",
    "\n",
    "#Initialization of Scalers/Transformers/Normalizers\n",
    "standard_scaler = preprocessing.StandardScaler()\n",
    "min_max_scaler = preprocessing.MinMaxScaler()\n",
    "robust_scaler = preprocessing.RobustScaler()\n",
    "normalize = preprocessing.Normalizer()\n",
    "quantile_transformer = preprocessing.QuantileTransformer(random_state = 0)\n",
    "\n",
    "\n",
    "# Choice of Scaling/Transforming/Normalizing (Default = Standard Scaler)\n",
    "choice = 1\n",
    "\n",
    "if choice == 1: \n",
    "    # Normalize the data with standard\n",
    "    XTrainData = standard_scaler.fit_transform(XTrainData)\n",
    "    XTestData = standard_scaler.fit_transform(XTestData)\n",
    "elif choice == 2:\n",
    "    # Normalize the data with minmax\n",
    "    XTrainData = min_max_scaler.fit_transform(XTrainData)\n",
    "    XTestData = min_max_scaler.fit_transform(XTestData)\n",
    "elif choice == 3:\n",
    "    # Normalize the data with robust scaler\n",
    "    XTrainData = robust_scaler.fit_transform(XTrainData)\n",
    "    XTestData = robust_scaler.fit_transform(XTestData)\n",
    "elif choice == 4:\n",
    "    #Normalize the data with Normalize\n",
    "    XTrainData = normalize.fit_transform(XTrainData)\n",
    "    XTestData = normalize.fit_transform(XTestData)\n",
    "else:\n",
    "    # Scale data onto Uniform Distribution [0, 1]\n",
    "    XTrainData = quantile_transformer.fit_transform(XTrainData)\n",
    "    XTestData = quantile_transformer.fit_transform(XTestData)\n",
    "\n",
    "'''\n",
    "Data Splits (Test and Train Sets)\n",
    "'''\n",
    "\n",
    "# Multiple split ratios for test purposes \n",
    "splitRatios = [0.6, 0.65, 0.7, 0.75, 0.8, 0.85]\n",
    "\n",
    "# Splitting the Test Data into Training and Testing Sets (both Features and Labels) \n",
    "XTrainSet, XTestSet, YTrainSet, YTestSet = TTSplit(XTrainData, YTrainData, test_size = splitRatios[2])\n",
    "Test_LabelSet_Size = len(YTestSet)\n",
    "Train_LabelSet_Size = len(YTrainSet)\n",
    "\n",
    "# Reshaping and preparing the training and testing sets. (R put with variable name (R = Refined)) \n",
    "# (Just re-shaped for now. To be refined later)\n",
    "YTestR = np.reshape(YTestSet, (Test_LabelSet_Size, 1))\n",
    "YTrainR = np.reshape(YTrainSet, (Train_LabelSet_Size, 1))"
   ]
  },
  {
   "cell_type": "code",
   "execution_count": 4,
   "metadata": {},
   "outputs": [
    {
     "name": "stdout",
     "output_type": "stream",
     "text": [
      "Inverse of Regularization Constant (C):  0.01\n",
      "Training Accuracy:  0.7301223241590215\n",
      "Testing Accuracy:  0.6310965630114567\n",
      "Final Score:  0.6310965630114567 \n",
      "\n",
      "Inverse of Regularization Constant (C):  0.02\n",
      "Training Accuracy:  0.7545871559633027\n",
      "Testing Accuracy:  0.6360065466448446\n",
      "Final Score:  0.6360065466448446 \n",
      "\n",
      "Inverse of Regularization Constant (C):  0.04\n",
      "Training Accuracy:  0.7897553516819572\n",
      "Testing Accuracy:  0.6366612111292962\n",
      "Final Score:  0.6366612111292962 \n",
      "\n",
      "Inverse of Regularization Constant (C):  0.08\n",
      "Training Accuracy:  0.8218654434250765\n",
      "Testing Accuracy:  0.6206219312602291\n",
      "Final Score:  0.6206219312602291 \n",
      "\n",
      "Inverse of Regularization Constant (C):  0.16\n",
      "Training Accuracy:  0.8608562691131498\n",
      "Testing Accuracy:  0.6075286415711948\n",
      "Final Score:  0.6075286415711948 \n",
      "\n",
      "Inverse of Regularization Constant (C):  0.32\n",
      "Training Accuracy:  0.8937308868501529\n",
      "Testing Accuracy:  0.593126022913257\n",
      "Final Score:  0.593126022913257 \n",
      "\n",
      "Inverse of Regularization Constant (C):  0.64\n",
      "Training Accuracy:  0.9380733944954128\n",
      "Testing Accuracy:  0.5826513911620295\n",
      "Final Score:  0.5826513911620295 \n",
      "\n",
      "Inverse of Regularization Constant (C):  1.28\n",
      "Training Accuracy:  0.9602446483180428\n",
      "Testing Accuracy:  0.5695581014729951\n",
      "Final Score:  0.5695581014729951 \n",
      "\n"
     ]
    }
   ],
   "source": [
    "''' \n",
    "Multinomial Logistic Regression with Multiple Iterations\n",
    "PARAMETERS:\n",
    "    Iterations = 7500\n",
    "    Inverse Regularization Constant = 0.1 till 10\n",
    "    Solver = SAG\n",
    "    Penalty = L2\n",
    "'''\n",
    "\n",
    "C = 0.01\n",
    "testAcc = []\n",
    "validAcc = []\n",
    "C_array = []\n",
    "\n",
    "while C < 2:\n",
    "    logreg = LogReg(C = C, max_iter = 7500, solver ='sag', multi_class = 'multinomial', n_jobs = -2)\n",
    "\n",
    "    # Fitting the refined training sets \n",
    "    logreg.fit(XTrainSet, YTrainR.ravel())\n",
    "\n",
    "    # Calculation of training accuracy\n",
    "    predictTest = logreg.predict(XTestSet)\n",
    "    predictTrain = logreg.predict(XTrainSet)\n",
    "\n",
    "    # Display the calculated accuracies\n",
    "    print('Inverse of Regularization Constant (C): ', C)\n",
    "    print('Training Accuracy: ', met.accuracy_score(predictTrain, YTrainR))\n",
    "    print('Testing Accuracy: ', met.accuracy_score(predictTest, YTestR))\n",
    "    testAcc.append(met.accuracy_score(predictTrain, YTrainR))\n",
    "    validAcc.append(met.accuracy_score(predictTest, YTestR))\n",
    "    C_array.append(C)\n",
    "    \n",
    "    # Display final score from Logistic Regression\n",
    "    score = logreg.score(XTestSet, YTestSet)\n",
    "    print('Final Score: ', score, '\\n')\n",
    "    \n",
    "    # Increment C for next iteration\n",
    "    C = C * 2\n"
   ]
  },
  {
   "cell_type": "code",
   "execution_count": 5,
   "metadata": {},
   "outputs": [
    {
     "data": {
      "image/png": "[encoded data removed]",
      "text/plain": [
       "<matplotlib.figure.Figure at 0x1f87fbd8908>"
      ]
     },
     "metadata": {
      "needs_background": "light"
     },
     "output_type": "display_data"
    }
   ],
   "source": [
    "'''\n",
    "Accuracy Plot for multiple Multinomial Logistic Regression Classifications\n",
    "'''\n",
    "plt.figure()\n",
    "plt.plot(C_array,testAcc)\n",
    "plt.plot(C_array,validAcc)\n",
    "plt.xscale('log')\n",
    "plt.show()"
   ]
  },
  {
   "cell_type": "code",
   "execution_count": null,
   "metadata": {},
   "outputs": [],
   "source": [
    "# Trial runs of all relevant Classifiers on the data (for test purposes)\n",
    "\n",
    "''' \n",
    "Gradient Boosting Classifier on the data\n",
    "    Default Settings\n",
    "'''\n",
    "\n",
    "'''\n",
    "gbc = ensemble.GradientBoostingClassifier()\n",
    "gbc.fit(XTrainSet, YTrainR.ravel())\n",
    "predictTest = gbc.predict(XTestSet)\n",
    "predictTrain = gbc.predict(XTrainSet)\n",
    "score = gbc.score(XTestSet, YTestSet)\n",
    "print('Training Accuracy: ', met.accuracy_score(predictTrain, YTrainR))\n",
    "print('Testing Accuracy: ', met.accuracy_score(predictTest, YTestR))\n",
    "print('Final Score: ', score, '\\n')\n",
    "'''\n",
    "\n",
    "\n",
    "\n",
    "''' \n",
    "Random Forest Classifier on the data\n",
    "    Default Settings\n",
    "'''\n",
    "'''\n",
    "rfc = ensemble.RandomForestClassifier()\n",
    "rfc.fit(XTrainSet, YTrainR.ravel())\n",
    "predictTest = rfc.predict(XTestSet)\n",
    "predictTrain = rfc.predict(XTrainSet)\n",
    "score = rfc.score(XTestSet, YTestSet)\n",
    "print('Training Accuracy: ', met.accuracy_score(predictTrain, YTrainR))\n",
    "print('Testing Accuracy: ', met.accuracy_score(predictTest, YTestR))\n",
    "print('Final Score: ', score, '\\n')\n",
    "'''\n",
    "\n",
    "\n",
    "''' \n",
    "RBF SVM Classifier on the data\n",
    "    Default Settings\n",
    "'''\n",
    "\n",
    "'''\n",
    "rbfsvm = svm.SVC()\n",
    "rbfsvm.fit(XTrainSet, YTrainR.ravel())\n",
    "predictTest = rbfsvm.predict(XTestSet)\n",
    "predictTrain = rbfsvm.predict(XTrainSet)\n",
    "score = rbfsvm.score(XTestSet, YTestSet)\n",
    "print('Training Accuracy: ', met.accuracy_score(predictTrain, YTrainR))\n",
    "print('Testing Accuracy: ', met.accuracy_score(predictTest, YTestR))\n",
    "print('Final Score: ', score, '\\n')\n",
    "'''"
   ]
  },
  {
   "cell_type": "code",
   "execution_count": 6,
   "metadata": {},
   "outputs": [
    {
     "name": "stdout",
     "output_type": "stream",
     "text": [
      "Training Accuracy:  0.7897553516819572\n"
     ]
    }
   ],
   "source": [
    "'''\n",
    "Single Multinomial Logistic Regression Classification\n",
    "'''\n",
    "\n",
    "logreg = LogReg(C = 0.04, max_iter = 7500, solver ='sag', multi_class = 'multinomial', n_jobs = -2)\n",
    "logreg.fit(XTrainSet, YTrainSet.ravel())\n",
    "predictTrain = logreg.predict(XTrainSet)\n",
    "print('Training Accuracy: ', met.accuracy_score(predictTrain, YTrainSet))"
   ]
  },
  {
   "cell_type": "code",
   "execution_count": 23,
   "metadata": {},
   "outputs": [],
   "source": [
    "# Write results to excel files for analysis\n",
    "def output(acc,logloss,name):\n",
    "    # Check input\n",
    "    if (acc.shape != (6544,)) or (logloss.shape != (6544,10)):\n",
    "        print('wrong input shapes')\n",
    "        return\n",
    "    \n",
    "    df_acc = pd.DataFrame(acc, index = pd.Series(range(1,6545), name = 'Sample_id'), columns = ['Sample_label'])\n",
    "    df_logloss = pd.DataFrame(logloss, index = pd.Series(range(1,6545), name = 'Sample_id'), \n",
    "        columns = ['Class_1','Class_2','Class_3','Class_4','Class_5','Class_6','Class_7','Class_8','Class_9','Class_10'])\n",
    "    \n",
    "    # Excel file for analysis\n",
    "    writer = pd.ExcelWriter(name+'.xlsx', engine = 'xlsxwriter')\n",
    "    df_acc.to_excel(writer, sheet_name = 'accuracy')\n",
    "    df_logloss.to_excel(writer, sheet_name = 'logloss')\n",
    "    writer.save()\n",
    "    \n",
    "    # Kaggle submissions\n",
    "    df_acc.to_csv(name+'_acc.csv')\n",
    "    df_logloss.to_csv(name+'_logloss.csv')\n",
    "    \n",
    "# Demo\n",
    "output(logreg.predict(XTestData).ravel(),logreg.predict_proba(XTestData),'logreg')"
   ]
  },
  {
   "cell_type": "code",
   "execution_count": null,
   "metadata": {},
   "outputs": [],
   "source": [
    "''' \n",
    "KNN Classifier Testing with Mutiple Iterations\n",
    "'''\n",
    "\n",
    "k_array = []\n",
    "acc = []\n",
    "for k in range(50):\n",
    "    neigh = KNeighborsClassifier(n_neighbors=k+1, n_jobs = -2)\n",
    "    neigh.fit(XTrainSet, YTrainSet.ravel())\n",
    "    predLabels = neigh.predict(XTestSet)\n",
    "    conf = confusion_matrix(YTestSet, predLabels)\n",
    "    accuracy = np.trace(conf)/np.sum(conf)\n",
    "    k_array.append(k+1)\n",
    "    acc.append(accuracy)\n",
    "    print('Accuracy:', accuracy,'with', k+1, 'neighbors')\n"
   ]
  },
  {
   "cell_type": "code",
   "execution_count": null,
   "metadata": {},
   "outputs": [],
   "source": [
    "'''\n",
    "Accuracy Plot for multiple KNN Classifications\n",
    "'''\n",
    "\n",
    "plt.figure()\n",
    "plt.plot(k_array, acc)\n",
    "plt.show()"
   ]
  },
  {
   "cell_type": "code",
   "execution_count": null,
   "metadata": {},
   "outputs": [],
   "source": [
    "'''\n",
    "Single KNN Classification\n",
    "'''\n",
    "\n",
    "neigh = KNeighborsClassifier(n_neighbors=20, n_jobs = -2)\n",
    "neigh.fit(XTrainSet, YTrainSet.ravel())\n",
    "predLabels = neigh.predict(XTestSet)\n",
    "conf = confusion_matrix(YTestSet, predLabels)\n",
    "accuracy = np.trace(conf)/np.sum(conf)\n",
    "print('Accuracy:', accuracy)\n",
    "logloss = neigh.predict_proba(XTestSet)"
   ]
  },
  {
   "cell_type": "code",
   "execution_count": null,
   "metadata": {},
   "outputs": [],
   "source": [
    "# Write results to excel file for analysis\n",
    "writer = pd.ExcelWriter('kneigh.xlsx', engine = 'xlsxwriter')\n",
    "pd.DataFrame(neigh.predict(XTestData)).to_excel(writer, sheet_name = 'accuracy')\n",
    "pd.DataFrame(neigh.predict_proba(XTestData)).to_excel(writer, sheet_name = 'logloss')\n",
    "writer.save()"
   ]
  },
  {
   "cell_type": "code",
   "execution_count": null,
   "metadata": {},
   "outputs": [],
   "source": [
    "#UNTESTED\n",
    "def logLoss(probabilities):\n",
    "    probabilities = probabilities / np.sum(probabilities, axis = 1) #normalize sums of probabilities to 1\n",
    "    classes = np.argmax(probabilities, axis = 1)\n",
    "    logsum = 0\n",
    "    for i in range(probabilities.shape[0]):\n",
    "        logsum += np.log(probabilities[i,classes[i]])\n",
    "    return logsum/probabilities.shape[0]"
   ]
  },
  {
   "cell_type": "code",
   "execution_count": null,
   "metadata": {},
   "outputs": [],
   "source": [
    "# Load the data and cleanup"
   ]
  },
  {
   "cell_type": "code",
   "execution_count": null,
   "metadata": {},
   "outputs": [],
   "source": [
    "#Analysis of the input data\n",
    "# ..."
   ]
  },
  {
   "cell_type": "markdown",
   "metadata": {},
   "source": [
    "## 3. Methods and experiments"
   ]
  },
  {
   "cell_type": "markdown",
   "metadata": {},
   "source": [
    "*- Explain your whole approach (you can include a block diagram showing the steps in your process).* \n",
    "\n",
    "*- What methods/algorithms, why were the methods chosen. *\n",
    "\n",
    "*- What evaluation methodology (cross CV, etc.).*\n",
    "\n"
   ]
  },
  {
   "cell_type": "code",
   "execution_count": null,
   "metadata": {},
   "outputs": [],
   "source": [
    "# Trials with ML algorithms"
   ]
  },
  {
   "cell_type": "markdown",
   "metadata": {},
   "source": [
    "## 4. Results"
   ]
  },
  {
   "cell_type": "markdown",
   "metadata": {},
   "source": [
    "*Summarize the results of the experiments without discussing their implications.*\n",
    "\n",
    "*- Include both performance measures (accuracy and LogLoss).*\n",
    "\n",
    "*- How does it perform on kaggle compared to the train data.*\n",
    "\n",
    "*- Include a confusion matrix.*\n",
    "\n"
   ]
  },
  {
   "cell_type": "code",
   "execution_count": null,
   "metadata": {},
   "outputs": [],
   "source": [
    "#Confusion matrix ..."
   ]
  },
  {
   "cell_type": "markdown",
   "metadata": {},
   "source": [
    "## 5. Discussion/Conclusions"
   ]
  },
  {
   "cell_type": "markdown",
   "metadata": {},
   "source": [
    "*Interpret and explain your results *\n",
    "\n",
    "*- Discuss the relevance of the performance measures (accuracy and LogLoss) for\n",
    "imbalanced multiclass datasets. *\n",
    "\n",
    "*- How the results relate to the literature. *\n",
    "\n",
    "*- Suggestions for future research/improvement. *\n",
    "\n",
    "*- Did the study answer your questions? *\n",
    "\n"
   ]
  },
  {
   "cell_type": "markdown",
   "metadata": {},
   "source": [
    "## 6. References"
   ]
  },
  {
   "cell_type": "markdown",
   "metadata": {},
   "source": [
    "*List of all the references cited in the document*"
   ]
  },
  {
   "cell_type": "markdown",
   "metadata": {},
   "source": [
    "## Appendix\n",
    "*Any additional material needed to complete the report can be included here. For example, if you want to keep  additional source code, additional images or plots, mathematical derivations, etc. The content should be relevant to the report and should help explain or visualize something mentioned earlier. **You can remove the whole Appendix section if there is no need for it.** *"
   ]
  },
  {
   "cell_type": "code",
   "execution_count": null,
   "metadata": {},
   "outputs": [],
   "source": []
  },
  {
   "cell_type": "code",
   "execution_count": null,
   "metadata": {},
   "outputs": [],
   "source": []
  }
 ],
 "metadata": {
  "kernelspec": {
   "display_name": "Python 3",
   "language": "python",
   "name": "python3"
  },
  "language_info": {
   "codemirror_mode": {
    "name": "ipython",
    "version": 3
   },
   "file_extension": ".py",
   "mimetype": "text/x-python",
   "name": "python",
   "nbconvert_exporter": "python",
   "pygments_lexer": "ipython3",
   "version": "3.6.4"
  }
 },
 "nbformat": 4,
 "nbformat_minor": 2
}
