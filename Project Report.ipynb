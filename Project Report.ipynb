{
 "cells": [
  {
   "cell_type": "markdown",
   "metadata": {},
   "source": [
    "**Machine Learning Basic Principles 2018 - Data Analysis Project Report**"
   ]
  },
  {
   "cell_type": "markdown",
   "metadata": {},
   "source": [
    "*All the text in italics is instructions for filling the template - remove when writing the project report!*"
   ]
  },
  {
   "cell_type": "markdown",
   "metadata": {},
   "source": [
    "# *Title* "
   ]
  },
  {
   "cell_type": "markdown",
   "metadata": {},
   "source": [
    "*Title should be concise and informative, describes the approach to solve the problem. Some good titles from previous years:*\n",
    "\n",
    "*- Comparing extreme learning machines and naive bayes’ classifier in spam detection*\n",
    "\n",
    "*- Using linear discriminant analysis in spam detection*\n",
    "\n",
    "*Some not-so-good titles:*\n",
    "\n",
    "*- Bayesian spam filtering with extras*\n",
    "\n",
    "*- Two-component classifier for spam detection*\n",
    "\n",
    "*- CS-E3210 Term Project, final report*\n",
    "\n",
    "\n"
   ]
  },
  {
   "cell_type": "markdown",
   "metadata": {},
   "source": [
    "## Abstract"
   ]
  },
  {
   "cell_type": "markdown",
   "metadata": {},
   "source": [
    "*Precise summary of the whole report, previews the contents and results. Must be a single paragraph between 100 and 200 words.*\n",
    "\n"
   ]
  },
  {
   "cell_type": "markdown",
   "metadata": {},
   "source": [
    "## 1. Introduction"
   ]
  },
  {
   "cell_type": "markdown",
   "metadata": {},
   "source": [
    "*Background, problem statement, motivation, many references, description of\n",
    "contents. Introduces the reader to the topic and the broad context within which your\n",
    "research/project fits*\n",
    "\n",
    "*- What do you hope to learn from the project?*\n",
    "*- What question is being addressed?*\n",
    "*- Why is this task important? (motivation)*\n",
    "\n",
    "*Keep it short (half to 1 page).*\n",
    "\n"
   ]
  },
  {
   "cell_type": "markdown",
   "metadata": {},
   "source": [
    "## 2. Data analysis"
   ]
  },
  {
   "cell_type": "markdown",
   "metadata": {},
   "source": [
    "*Briefly describe data (class distribution, dimensionality) and how will it affect\n",
    "classification. Visualize the data. Don’t focus too much on the meaning of the features,\n",
    "unless you want to.*\n",
    "\n",
    "*- Include histograms showing class distribution.*\n",
    "\n"
   ]
  },
  {
   "cell_type": "code",
   "execution_count": 48,
   "metadata": {},
   "outputs": [
    {
     "name": "stdout",
     "output_type": "stream",
     "text": [
      "Training Accuracy:  0.77217125382263\n",
      "Testing Accuracy:  0.5754500818330606\n",
      "Final Score:  0.5754500818330606 \n",
      "\n"
     ]
    }
   ],
   "source": [
    "'''\n",
    "Dependencies\n",
    "'''\n",
    "# Import dependencies\n",
    "import pandas as pd\n",
    "import numpy as np\n",
    "from sklearn.tree import DecisionTreeClassifier as DTC\n",
    "from sklearn import metrics as met\n",
    "from sklearn.model_selection import train_test_split as TTSplit\n",
    "from sklearn.metrics import classification_report as ClassRep\n",
    "from sklearn.metrics import confusion_matrix as ConfMat\n",
    "from sklearn.linear_model import LogisticRegression as LogReg\n",
    "from sklearn import preprocessing, svm, ensemble\n",
    "\n",
    "\n",
    "\n",
    "'''\n",
    "Data Import from Files\n",
    "'''\n",
    "# Reading the train and test files\n",
    "XTrainData = pd.read_csv(\"train_data.csv\", header = None).values\n",
    "YTrainData = pd.read_csv(\"train_labels.csv\", header = None).values\n",
    "XTestData = pd.read_csv(\"test_data.csv\", header = None).values\n",
    "\n",
    "\n",
    "\n",
    "'''\n",
    "Data Normalization\n",
    "'''\n",
    "#Initialization of Scalers/Transformers/Normalizers\n",
    "standard_scaler = preprocessing.StandardScaler()\n",
    "min_max_scaler = preprocessing.MinMaxScaler()\n",
    "robust_scaler = preprocessing.RobustScaler()\n",
    "normalize = preprocessing.Normalizer()\n",
    "quantile_transformer = preprocessing.QuantileTransformer(random_state = 0)\n",
    "\n",
    "# Normalize the data with standard\n",
    "#XTrainData = standard_scaler.fit_transform(XTrainData)\n",
    "#TestData = standard_scaler.fit_transform(XTestData)\n",
    "\n",
    "# Normalize the data with minmax\n",
    "#XTrainData = min_max_scaler.fit_transform(XTrainData)\n",
    "#TestData = min_max_scaler.fit_transform(XTestData)\n",
    "\n",
    "# Normalize the data with robust scaler\n",
    "XTrainData = robust_scaler.fit_transform(XTrainData)\n",
    "XTestData = robust_scaler.fit_transform(XTestData)\n",
    "\n",
    "# Normalize the data with Normalize\n",
    "#XTrainData = normalize.fit_transform(XTrainData)\n",
    "#XTestData = normalize.fit_transform(XTestData)\n",
    "\n",
    "# Scale data onto Uniform Distribution [0, 1]\n",
    "#XTrainData = quantile_transformer.fit_transform(XTrainData)\n",
    "#XTestData = quantile_transformer.fit_transform(XTestData)\n",
    "\n",
    "\n",
    "\n",
    "\n",
    "'''\n",
    "Data Splits (Test and Train Sets)\n",
    "'''\n",
    "# Splitting the Test Data into Training and Testing Sets (both Features and Labels) \n",
    "XTrainSet, XTestSet, YTrainSet, YTestSet = TTSplit(XTrainData, YTrainData, test_size = 0.7)\n",
    "Test_LabelSet_Size = len(YTestSet)\n",
    "Train_LabelSet_Size = len(YTrainSet)\n",
    "\n",
    "# Reshaping and preparing the training and testing sets. (R put with variable name (R = Refined)) \n",
    "# (Just re-shaped for now. To be refined later)\n",
    "YTestR = np.reshape(YTestSet, (Test_LabelSet_Size, 1))\n",
    "YTrainR = np.reshape(YTrainSet, (Train_LabelSet_Size, 1))\n",
    "\n",
    "\n",
    "\n",
    "''' \n",
    "Multinomial Logistic Regression on the data\n",
    "    Iterations = 5000\n",
    "    Inverse Regularization Constant = 0.1 till 10\n",
    "    Solver = SAGA\n",
    "    Penalty = L1\n",
    "'''\n",
    "C = 0.1\n",
    "testAcc = []\n",
    "validAcc = []\n",
    "C_array = []\n",
    "\n",
    "'''\n",
    "while C < 10:\n",
    "    print('Inverse of Regularization Constant (C):', C)\n",
    "    logreg = LogReg(penalty = 'l1', C = C, max_iter = 5000, solver ='saga', multi_class = 'multinomial')\n",
    "\n",
    "    # Fitting the refined training sets \n",
    "    logreg.fit(XTrainSet, YTrainR.ravel())\n",
    "\n",
    "    # Calculation of training accuracy\n",
    "    predictTest = logreg.predict(XTestSet)\n",
    "    predictTrain = logreg.predict(XTrainSet)\n",
    "\n",
    "    # Display the calculated accuracies\n",
    "    print('Training Accuracy: ', met.accuracy_score(predictTrain, YTrainR))\n",
    "    print('Testing Accuracy: ', met.accuracy_score(predictTest, YTestR))\n",
    "    testAcc.append(met.accuracy_score(predictTrain, YTrainR))\n",
    "    validAcc.append(met.accuracy_score(predictTest, YTestR))\n",
    "    C_array.append(C)\n",
    "    \n",
    "    # Display final score from Logistic Regression\n",
    "    \n",
    "    score = logreg.score(XTestSet, YTestSet)\n",
    "    print('Final Score: ', score, '\\n')\n",
    "    \n",
    "    # Increase constant until > 10\n",
    "    C = C * 1.2\n",
    "'''\n",
    "\n",
    "\n",
    "\n",
    "\n",
    "\n",
    "''' \n",
    "Gradient Boosting Classifier on the data\n",
    "    Default Settings\n",
    "'''\n",
    "'''\n",
    "gbc = ensemble.GradientBoostingClassifier()\n",
    "gbc.fit(XTrainSet, YTrainR.ravel())\n",
    "predictTest = gbc.predict(XTestSet)\n",
    "predictTrain = gbc.predict(XTrainSet)\n",
    "score = gbc.score(XTestSet, YTestSet)\n",
    "print('Training Accuracy: ', met.accuracy_score(predictTrain, YTrainR))\n",
    "print('Testing Accuracy: ', met.accuracy_score(predictTest, YTestR))\n",
    "print('Final Score: ', score, '\\n')\n",
    "'''\n",
    "\n",
    "\n",
    "\n",
    "''' \n",
    "Random Forest Classifier on the data\n",
    "    Default Settings\n",
    "'''\n",
    "'''\n",
    "rfc = ensemble.RandomForestClassifier()\n",
    "rfc.fit(XTrainSet, YTrainR.ravel())\n",
    "predictTest = rfc.predict(XTestSet)\n",
    "predictTrain = rfc.predict(XTrainSet)\n",
    "score = rfc.score(XTestSet, YTestSet)\n",
    "print('Training Accuracy: ', met.accuracy_score(predictTrain, YTrainR))\n",
    "print('Testing Accuracy: ', met.accuracy_score(predictTest, YTestR))\n",
    "print('Final Score: ', score, '\\n')\n",
    "'''\n",
    "\n",
    "\n",
    "\n",
    "\n",
    "\n",
    "''' \n",
    "RBF SVM Classifier on the data\n",
    "    Default Settings\n",
    "'''\n",
    "\n",
    "rbfsvm = svm.SVC()\n",
    "rbfsvm.fit(XTrainSet, YTrainR.ravel())\n",
    "predictTest = rbfsvm.predict(XTestSet)\n",
    "predictTrain = rbfsvm.predict(XTrainSet)\n",
    "score = rbfsvm.score(XTestSet, YTestSet)\n",
    "print('Training Accuracy: ', met.accuracy_score(predictTrain, YTrainR))\n",
    "print('Testing Accuracy: ', met.accuracy_score(predictTest, YTestR))\n",
    "print('Final Score: ', score, '\\n')\n",
    "\n"
   ]
  },
  {
   "cell_type": "code",
   "execution_count": 47,
   "metadata": {},
   "outputs": [
    {
     "data": {
      "image/png": "[encoded data removed]",
      "text/plain": [
       "<Figure size 432x288 with 1 Axes>"
      ]
     },
     "metadata": {
      "needs_background": "light"
     },
     "output_type": "display_data"
    }
   ],
   "source": [
    "import matplotlib.pyplot as plt\n",
    "plt.figure()\n",
    "plt.plot(C_array,testAcc)\n",
    "plt.plot(C_array,validAcc)\n",
    "plt.xscale('log')\n",
    "plt.show()"
   ]
  },
  {
   "cell_type": "code",
   "execution_count": 3,
   "metadata": {},
   "outputs": [],
   "source": [
    "# Load the data and cleanup"
   ]
  },
  {
   "cell_type": "code",
   "execution_count": 4,
   "metadata": {},
   "outputs": [],
   "source": [
    "#Analysis of the input data\n",
    "# ..."
   ]
  },
  {
   "cell_type": "markdown",
   "metadata": {},
   "source": [
    "## 3. Methods and experiments"
   ]
  },
  {
   "cell_type": "markdown",
   "metadata": {},
   "source": [
    "*- Explain your whole approach (you can include a block diagram showing the steps in your process).* \n",
    "\n",
    "*- What methods/algorithms, why were the methods chosen. *\n",
    "\n",
    "*- What evaluation methodology (cross CV, etc.).*\n",
    "\n"
   ]
  },
  {
   "cell_type": "code",
   "execution_count": 5,
   "metadata": {},
   "outputs": [],
   "source": [
    "# Trials with ML algorithms"
   ]
  },
  {
   "cell_type": "markdown",
   "metadata": {},
   "source": [
    "## 4. Results"
   ]
  },
  {
   "cell_type": "markdown",
   "metadata": {},
   "source": [
    "*Summarize the results of the experiments without discussing their implications.*\n",
    "\n",
    "*- Include both performance measures (accuracy and LogLoss).*\n",
    "\n",
    "*- How does it perform on kaggle compared to the train data.*\n",
    "\n",
    "*- Include a confusion matrix.*\n",
    "\n"
   ]
  },
  {
   "cell_type": "code",
   "execution_count": 6,
   "metadata": {},
   "outputs": [],
   "source": [
    "#Confusion matrix ..."
   ]
  },
  {
   "cell_type": "markdown",
   "metadata": {},
   "source": [
    "## 5. Discussion/Conclusions"
   ]
  },
  {
   "cell_type": "markdown",
   "metadata": {},
   "source": [
    "*Interpret and explain your results *\n",
    "\n",
    "*- Discuss the relevance of the performance measures (accuracy and LogLoss) for\n",
    "imbalanced multiclass datasets. *\n",
    "\n",
    "*- How the results relate to the literature. *\n",
    "\n",
    "*- Suggestions for future research/improvement. *\n",
    "\n",
    "*- Did the study answer your questions? *\n",
    "\n"
   ]
  },
  {
   "cell_type": "markdown",
   "metadata": {},
   "source": [
    "## 6. References"
   ]
  },
  {
   "cell_type": "markdown",
   "metadata": {},
   "source": [
    "*List of all the references cited in the document*"
   ]
  },
  {
   "cell_type": "markdown",
   "metadata": {},
   "source": [
    "## Appendix\n",
    "*Any additional material needed to complete the report can be included here. For example, if you want to keep  additional source code, additional images or plots, mathematical derivations, etc. The content should be relevant to the report and should help explain or visualize something mentioned earlier. **You can remove the whole Appendix section if there is no need for it.** *"
   ]
  },
  {
   "cell_type": "code",
   "execution_count": null,
   "metadata": {},
   "outputs": [],
   "source": []
  },
  {
   "cell_type": "code",
   "execution_count": null,
   "metadata": {},
   "outputs": [],
   "source": []
  }
 ],
 "metadata": {
  "kernelspec": {
   "display_name": "Python 3",
   "language": "python",
   "name": "python3"
  },
  "language_info": {
   "codemirror_mode": {
    "name": "ipython",
    "version": 3
   },
   "file_extension": ".py",
   "mimetype": "text/x-python",
   "name": "python",
   "nbconvert_exporter": "python",
   "pygments_lexer": "ipython3",
   "version": "3.7.0"
  }
 },
 "nbformat": 4,
 "nbformat_minor": 2
}
