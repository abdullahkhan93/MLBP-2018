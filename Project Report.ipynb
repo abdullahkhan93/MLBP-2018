{
 "cells": [
  {
   "cell_type": "markdown",
   "metadata": {},
   "source": [
    "**Machine Learning Basic Principles 2018 - Data Analysis Project Report**"
   ]
  },
  {
   "cell_type": "markdown",
   "metadata": {},
   "source": [
    "*All the text in italics is instructions for filling the template - remove when writing the project report!*"
   ]
  },
  {
   "cell_type": "markdown",
   "metadata": {},
   "source": [
    "# *Title* "
   ]
  },
  {
   "cell_type": "markdown",
   "metadata": {},
   "source": [
    "*Title should be concise and informative, describes the approach to solve the problem. Some good titles from previous years:*\n",
    "\n",
    "*- Comparing extreme learning machines and naive bayes’ classifier in spam detection*\n",
    "\n",
    "*- Using linear discriminant analysis in spam detection*\n",
    "\n",
    "*Some not-so-good titles:*\n",
    "\n",
    "*- Bayesian spam filtering with extras*\n",
    "\n",
    "*- Two-component classifier for spam detection*\n",
    "\n",
    "*- CS-E3210 Term Project, final report*\n",
    "\n",
    "\n"
   ]
  },
  {
   "cell_type": "markdown",
   "metadata": {},
   "source": [
    "## Abstract"
   ]
  },
  {
   "cell_type": "markdown",
   "metadata": {},
   "source": [
    "*Precise summary of the whole report, previews the contents and results. Must be a single paragraph between 100 and 200 words.*\n",
    "\n"
   ]
  },
  {
   "cell_type": "markdown",
   "metadata": {},
   "source": [
    "## 1. Introduction"
   ]
  },
  {
   "cell_type": "markdown",
   "metadata": {},
   "source": [
    "*Background, problem statement, motivation, many references, description of\n",
    "contents. Introduces the reader to the topic and the broad context within which your\n",
    "research/project fits*\n",
    "\n",
    "*- What do you hope to learn from the project?*\n",
    "*- What question is being addressed?*\n",
    "*- Why is this task important? (motivation)*\n",
    "\n",
    "*Keep it short (half to 1 page).*\n",
    "\n"
   ]
  },
  {
   "cell_type": "markdown",
   "metadata": {},
   "source": [
    "## 2. Data analysis"
   ]
  },
  {
   "cell_type": "markdown",
   "metadata": {},
   "source": [
    "*Briefly describe data (class distribution, dimensionality) and how will it affect\n",
    "classification. Visualize the data. Don’t focus too much on the meaning of the features,\n",
    "unless you want to.*\n",
    "\n",
    "*- Include histograms showing class distribution.*\n",
    "\n"
   ]
  },
  {
   "cell_type": "code",
   "execution_count": 34,
   "metadata": {},
   "outputs": [
    {
     "name": "stderr",
     "output_type": "stream",
     "text": [
      "/home/abdullah/anaconda3/lib/python3.7/site-packages/scipy/stats/stats.py:1713: FutureWarning: Using a non-tuple sequence for multidimensional indexing is deprecated; use `arr[tuple(seq)]` instead of `arr[seq]`. In the future this will be interpreted as an array index, `arr[np.array(seq)]`, which will result either in an error or a different result.\n",
      "  return np.add.reduce(sorted[indexer] * weights, axis=axis) / sumval\n"
     ]
    },
    {
     "name": "stdout",
     "output_type": "stream",
     "text": [
      "Feature Shape before outlier removal:  (4363, 264)\n",
      "Feature Shape after outlier removal:  (1750, 264)\n",
      "Inverse of Regularization Constant (C): 0.1\n",
      "Training Accuracy:  0.5904761904761905\n",
      "Testing Accuracy:  0.5812244897959183\n",
      "Final Score:  0.5812244897959183 \n",
      "\n",
      "Inverse of Regularization Constant (C): 0.12\n",
      "Training Accuracy:  0.6133333333333333\n",
      "Testing Accuracy:  0.5877551020408164\n",
      "Final Score:  0.5877551020408164 \n",
      "\n",
      "Inverse of Regularization Constant (C): 0.144\n",
      "Training Accuracy:  0.6304761904761905\n",
      "Testing Accuracy:  0.5918367346938775\n",
      "Final Score:  0.5918367346938775 \n",
      "\n",
      "Inverse of Regularization Constant (C): 0.17279999999999998\n",
      "Training Accuracy:  0.64\n",
      "Testing Accuracy:  0.6008163265306122\n",
      "Final Score:  0.6008163265306122 \n",
      "\n",
      "Inverse of Regularization Constant (C): 0.20735999999999996\n",
      "Training Accuracy:  0.6438095238095238\n",
      "Testing Accuracy:  0.6024489795918367\n",
      "Final Score:  0.6024489795918367 \n",
      "\n",
      "Inverse of Regularization Constant (C): 0.24883199999999994\n",
      "Training Accuracy:  0.6476190476190476\n",
      "Testing Accuracy:  0.6122448979591837\n",
      "Final Score:  0.6122448979591837 \n",
      "\n",
      "Inverse of Regularization Constant (C): 0.29859839999999993\n",
      "Training Accuracy:  0.6552380952380953\n",
      "Testing Accuracy:  0.6122448979591837\n",
      "Final Score:  0.6122448979591837 \n",
      "\n",
      "Inverse of Regularization Constant (C): 0.3583180799999999\n",
      "Training Accuracy:  0.6780952380952381\n",
      "Testing Accuracy:  0.6179591836734694\n",
      "Final Score:  0.6179591836734694 \n",
      "\n",
      "Inverse of Regularization Constant (C): 0.4299816959999999\n",
      "Training Accuracy:  0.6914285714285714\n",
      "Testing Accuracy:  0.6155102040816327\n",
      "Final Score:  0.6155102040816327 \n",
      "\n",
      "Inverse of Regularization Constant (C): 0.5159780351999999\n",
      "Training Accuracy:  0.7028571428571428\n",
      "Testing Accuracy:  0.6163265306122448\n",
      "Final Score:  0.6163265306122448 \n",
      "\n",
      "Inverse of Regularization Constant (C): 0.6191736422399998\n",
      "Training Accuracy:  0.7333333333333333\n",
      "Testing Accuracy:  0.6171428571428571\n",
      "Final Score:  0.6171428571428571 \n",
      "\n",
      "Inverse of Regularization Constant (C): 0.7430083706879997\n",
      "Training Accuracy:  0.7447619047619047\n",
      "Testing Accuracy:  0.6204081632653061\n",
      "Final Score:  0.6204081632653061 \n",
      "\n",
      "Inverse of Regularization Constant (C): 0.8916100448255997\n",
      "Training Accuracy:  0.7561904761904762\n",
      "Testing Accuracy:  0.6187755102040816\n",
      "Final Score:  0.6187755102040816 \n",
      "\n",
      "Inverse of Regularization Constant (C): 1.0699320537907195\n",
      "Training Accuracy:  0.7676190476190476\n",
      "Testing Accuracy:  0.6212244897959184\n",
      "Final Score:  0.6212244897959184 \n",
      "\n",
      "Inverse of Regularization Constant (C): 1.2839184645488635\n",
      "Training Accuracy:  0.7790476190476191\n",
      "Testing Accuracy:  0.6195918367346939\n",
      "Final Score:  0.6195918367346939 \n",
      "\n",
      "Inverse of Regularization Constant (C): 1.5407021574586361\n",
      "Training Accuracy:  0.7904761904761904\n",
      "Testing Accuracy:  0.6146938775510205\n",
      "Final Score:  0.6146938775510205 \n",
      "\n",
      "Inverse of Regularization Constant (C): 1.8488425889503632\n",
      "Training Accuracy:  0.819047619047619\n",
      "Testing Accuracy:  0.6155102040816327\n",
      "Final Score:  0.6155102040816327 \n",
      "\n",
      "Inverse of Regularization Constant (C): 2.2186111067404357\n",
      "Training Accuracy:  0.8361904761904762\n",
      "Testing Accuracy:  0.6171428571428571\n",
      "Final Score:  0.6171428571428571 \n",
      "\n",
      "Inverse of Regularization Constant (C): 2.662333328088523\n",
      "Training Accuracy:  0.8552380952380952\n",
      "Testing Accuracy:  0.6155102040816327\n",
      "Final Score:  0.6155102040816327 \n",
      "\n",
      "Inverse of Regularization Constant (C): 3.1947999937062272\n",
      "Training Accuracy:  0.8819047619047619\n",
      "Testing Accuracy:  0.6146938775510205\n",
      "Final Score:  0.6146938775510205 \n",
      "\n",
      "Inverse of Regularization Constant (C): 3.8337599924474723\n",
      "Training Accuracy:  0.8933333333333333\n",
      "Testing Accuracy:  0.6130612244897959\n",
      "Final Score:  0.6130612244897959 \n",
      "\n",
      "Inverse of Regularization Constant (C): 4.600511990936966\n",
      "Training Accuracy:  0.8952380952380953\n",
      "Testing Accuracy:  0.6106122448979592\n",
      "Final Score:  0.6106122448979592 \n",
      "\n",
      "Inverse of Regularization Constant (C): 5.5206143891243595\n",
      "Training Accuracy:  0.9066666666666666\n",
      "Testing Accuracy:  0.6089795918367347\n",
      "Final Score:  0.6089795918367347 \n",
      "\n",
      "Inverse of Regularization Constant (C): 6.624737266949231\n",
      "Training Accuracy:  0.9295238095238095\n",
      "Testing Accuracy:  0.6016326530612245\n",
      "Final Score:  0.6016326530612245 \n",
      "\n",
      "Inverse of Regularization Constant (C): 7.949684720339077\n",
      "Training Accuracy:  0.9371428571428572\n",
      "Testing Accuracy:  0.6\n",
      "Final Score:  0.6 \n",
      "\n",
      "Inverse of Regularization Constant (C): 9.539621664406893\n",
      "Training Accuracy:  0.9523809523809523\n",
      "Testing Accuracy:  0.6008163265306122\n",
      "Final Score:  0.6008163265306122 \n",
      "\n"
     ]
    }
   ],
   "source": [
    "# Import dependencies\n",
    "import pandas as pd\n",
    "import numpy as np\n",
    "from sklearn.tree import DecisionTreeClassifier as DTC\n",
    "from sklearn import metrics as met\n",
    "from sklearn.model_selection import train_test_split as TTSplit\n",
    "from sklearn.metrics import classification_report as ClassRep\n",
    "from sklearn.metrics import confusion_matrix as ConfMat\n",
    "from sklearn.linear_model import LogisticRegression as LogReg\n",
    "from sklearn import preprocessing, svm, ensemble\n",
    "\n",
    "# Reading the train and test files\n",
    "XTrainData = pd.read_csv(\"train_data.csv\", header = None).values\n",
    "YTrainData = pd.read_csv(\"train_labels.csv\", header = None).values\n",
    "XTestData = pd.read_csv(\"test_data.csv\", header = None).values\n",
    "\n",
    "# Remove outliers\n",
    "# Local Forest Classifier for finding outliers in training data \n",
    "enLocalForestClassifier = ensemble.IsolationForest(max_samples = XTrainData.shape[0],\n",
    "                                                   random_state = 42, contamination = 0.1)\n",
    "\n",
    "# Fit data, label outliers and get their indices\n",
    "enLocalForestClassifier.fit(XTrainData).predict(XTrainData)\n",
    "outlierIndices = np.where(outlierLabels == -1)[0]\n",
    "\n",
    "print (\"Feature Shape before outlier removal: \", XTrainData.shape)\n",
    "\n",
    "# Trim outliers from training data (both features and labels)\n",
    "XTrainData = np.delete(XTrainData, outlierIndices, axis = 0)\n",
    "YTrainData = np.delete(YTrainData, outlierIndices, axis = 0)\n",
    "\n",
    "print (\"Feature Shape after outlier removal: \", XTrainData.shape)\n",
    "\n",
    "# Normalize the data with minmax\n",
    "min_max_scaler = preprocessing.MinMaxScaler()\n",
    "XTrainData = min_max_scaler.fit_transform(XTrainData)\n",
    "\n",
    "#print 'XTrainData Shape:', XTrainData.shape\n",
    "\n",
    "# Splitting the Test Data into Training and Testing Sets (both Features and Labels) \n",
    "XTrainSet, XTestSet, YTrainSet, YTestSet = TTSplit(XTrainData, YTrainData, test_size = 0.7)\n",
    "Test_LabelSet_Size = len(YTestSet)\n",
    "Train_LabelSet_Size = len(YTrainSet)\n",
    "\n",
    "# Reshaping and preparing the training and testing sets. (R put with variable name (R = Refined)) (Just re-shaped for now. To be refined later)\n",
    "YTestR = np.reshape(YTestSet, (Test_LabelSet_Size, 1))\n",
    "YTrainR = np.reshape(YTrainSet, (Train_LabelSet_Size, 1))\n",
    "\n",
    "#print 'YTestR Shape:', YTestR.shape\n",
    "\n",
    "''' \n",
    "Multinomial Logistic Regression on the data\n",
    "    Iterations = 7500\n",
    "    Inverse Regularization Constant = 1e-3 (lambda = 1000)\n",
    "    Solver = SAG (Stochastic Average Gradient) descent \n",
    "'''\n",
    "C = 0.1\n",
    "testAcc = []\n",
    "validAcc = []\n",
    "C_array = []\n",
    "\n",
    "while C < 10:\n",
    "    print('Inverse of Regularization Constant (C):', C)\n",
    "    logreg = LogReg(C = C, max_iter = 7500, solver ='sag', multi_class = 'multinomial')\n",
    "\n",
    "    # Fitting the refined training sets \n",
    "    logreg.fit(XTrainSet, YTrainR.ravel())\n",
    "\n",
    "    # Calculation of training accuracy\n",
    "    predictTest = logreg.predict(XTestSet)\n",
    "    predictTrain = logreg.predict(XTrainSet)\n",
    "\n",
    "    # Display the calculated accuracies\n",
    "    print('Training Accuracy: ', met.accuracy_score(predictTrain, YTrainR))\n",
    "    print('Testing Accuracy: ', met.accuracy_score(predictTest, YTestR))\n",
    "    testAcc.append(met.accuracy_score(predictTrain, YTrainR))\n",
    "    validAcc.append(met.accuracy_score(predictTest, YTestR))\n",
    "    C_array.append(C)\n",
    "    \n",
    "    # Display final score from Logistic Regression\n",
    "    \n",
    "    score = logreg.score(XTestSet, YTestSet)\n",
    "    print('Final Score: ', score, '\\n')\n",
    "    \n",
    "    # Increase constant until > 10\n",
    "    C = C * 1.2\n"
   ]
  },
  {
   "cell_type": "code",
   "execution_count": 21,
   "metadata": {},
   "outputs": [
    {
     "data": {
      "image/png": "[encoded data removed]",
      "text/plain": [
       "<Figure size 432x288 with 1 Axes>"
      ]
     },
     "metadata": {
      "needs_background": "light"
     },
     "output_type": "display_data"
    }
   ],
   "source": [
    "import matplotlib.pyplot as plt\n",
    "plt.figure()\n",
    "plt.plot(C_array,testAcc)\n",
    "plt.plot(C_array,validAcc)\n",
    "plt.xscale('log')\n",
    "plt.show()"
   ]
  },
  {
   "cell_type": "code",
   "execution_count": null,
   "metadata": {},
   "outputs": [],
   "source": [
    "# Load the data and cleanup"
   ]
  },
  {
   "cell_type": "code",
   "execution_count": null,
   "metadata": {},
   "outputs": [],
   "source": [
    "#Analysis of the input data\n",
    "# ..."
   ]
  },
  {
   "cell_type": "markdown",
   "metadata": {},
   "source": [
    "## 3. Methods and experiments"
   ]
  },
  {
   "cell_type": "markdown",
   "metadata": {},
   "source": [
    "*- Explain your whole approach (you can include a block diagram showing the steps in your process).* \n",
    "\n",
    "*- What methods/algorithms, why were the methods chosen. *\n",
    "\n",
    "*- What evaluation methodology (cross CV, etc.).*\n",
    "\n"
   ]
  },
  {
   "cell_type": "code",
   "execution_count": null,
   "metadata": {},
   "outputs": [],
   "source": [
    "# Trials with ML algorithms"
   ]
  },
  {
   "cell_type": "markdown",
   "metadata": {},
   "source": [
    "## 4. Results"
   ]
  },
  {
   "cell_type": "markdown",
   "metadata": {},
   "source": [
    "*Summarize the results of the experiments without discussing their implications.*\n",
    "\n",
    "*- Include both performance measures (accuracy and LogLoss).*\n",
    "\n",
    "*- How does it perform on kaggle compared to the train data.*\n",
    "\n",
    "*- Include a confusion matrix.*\n",
    "\n"
   ]
  },
  {
   "cell_type": "code",
   "execution_count": null,
   "metadata": {},
   "outputs": [],
   "source": [
    "#Confusion matrix ..."
   ]
  },
  {
   "cell_type": "markdown",
   "metadata": {},
   "source": [
    "## 5. Discussion/Conclusions"
   ]
  },
  {
   "cell_type": "markdown",
   "metadata": {},
   "source": [
    "*Interpret and explain your results *\n",
    "\n",
    "*- Discuss the relevance of the performance measures (accuracy and LogLoss) for\n",
    "imbalanced multiclass datasets. *\n",
    "\n",
    "*- How the results relate to the literature. *\n",
    "\n",
    "*- Suggestions for future research/improvement. *\n",
    "\n",
    "*- Did the study answer your questions? *\n",
    "\n"
   ]
  },
  {
   "cell_type": "markdown",
   "metadata": {},
   "source": [
    "## 6. References"
   ]
  },
  {
   "cell_type": "markdown",
   "metadata": {},
   "source": [
    "*List of all the references cited in the document*"
   ]
  },
  {
   "cell_type": "markdown",
   "metadata": {},
   "source": [
    "## Appendix\n",
    "*Any additional material needed to complete the report can be included here. For example, if you want to keep  additional source code, additional images or plots, mathematical derivations, etc. The content should be relevant to the report and should help explain or visualize something mentioned earlier. **You can remove the whole Appendix section if there is no need for it.** *"
   ]
  },
  {
   "cell_type": "code",
   "execution_count": null,
   "metadata": {},
   "outputs": [],
   "source": []
  }
 ],
 "metadata": {
  "kernelspec": {
   "display_name": "Python 3",
   "language": "python",
   "name": "python3"
  },
  "language_info": {
   "codemirror_mode": {
    "name": "ipython",
    "version": 3
   },
   "file_extension": ".py",
   "mimetype": "text/x-python",
   "name": "python",
   "nbconvert_exporter": "python",
   "pygments_lexer": "ipython3",
   "version": "3.7.0"
  }
 },
 "nbformat": 4,
 "nbformat_minor": 2
}
